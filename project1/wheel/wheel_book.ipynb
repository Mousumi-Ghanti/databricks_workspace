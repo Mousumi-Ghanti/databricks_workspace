{
 "cells": [
  {
   "cell_type": "code",
   "execution_count": null,
   "metadata": {},
   "outputs": [],
   "source": [
    "from project1 import main\n",
    "\n",
    "df = main.get_cartoon_data(spark)\n",
    "main.put_cartoon_data(df)"
   ]
  }
 ],
 "metadata": {
  "language_info": {
   "name": "python"
  }
 },
 "nbformat": 4,
 "nbformat_minor": 2
}
